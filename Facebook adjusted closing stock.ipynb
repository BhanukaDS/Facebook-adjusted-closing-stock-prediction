{
 "cells": [
  {
   "cell_type": "markdown",
   "id": "b0ba1e9a",
   "metadata": {},
   "source": [
    "# Question 1"
   ]
  },
  {
   "cell_type": "code",
   "execution_count": 1,
   "id": "256dd21c",
   "metadata": {},
   "outputs": [],
   "source": [
    "def my_method():\n",
    "    item_count = round(float(input(\"Please enter any preferred integer number ---> \")))\n",
    "    print([1/item for item in range(1, item_count+1)])"
   ]
  },
  {
   "cell_type": "code",
   "execution_count": 2,
   "id": "0122839f",
   "metadata": {},
   "outputs": [
    {
     "name": "stdout",
     "output_type": "stream",
     "text": [
      "Please enter any preferred integer number ---> 5\n",
      "[1.0, 0.5, 0.3333333333333333, 0.25, 0.2]\n"
     ]
    }
   ],
   "source": [
    "my_method()"
   ]
  },
  {
   "cell_type": "markdown",
   "id": "0293ef9c",
   "metadata": {},
   "source": [
    "# Question 2"
   ]
  },
  {
   "cell_type": "markdown",
   "id": "9b3378df",
   "metadata": {},
   "source": [
    "### (a)"
   ]
  },
  {
   "cell_type": "code",
   "execution_count": 3,
   "id": "2e4dd1d2",
   "metadata": {},
   "outputs": [],
   "source": [
    "#Importing necessary libraries\n",
    "import pandas as pd\n",
    "import numpy as np\n",
    "import matplotlib.pyplot as plt \n",
    "from sklearn.preprocessing import StandardScaler\n",
    "from sklearn.linear_model import LinearRegression\n",
    "from sklearn.model_selection import cross_val_predict  \n",
    "from sklearn.metrics import mean_squared_error, r2_score\n",
    "from sklearn.model_selection import KFold\n",
    "from sys import stdout\n",
    "from sklearn import model_selection\n",
    "import matplotlib\n",
    "import matplotlib.cm as cm\n",
    "import seaborn as sns\n",
    "%matplotlib inline"
   ]
  },
  {
   "cell_type": "code",
   "execution_count": 4,
   "id": "05d7c5c8",
   "metadata": {},
   "outputs": [
    {
     "data": {
      "text/html": [
       "<div>\n",
       "<style scoped>\n",
       "    .dataframe tbody tr th:only-of-type {\n",
       "        vertical-align: middle;\n",
       "    }\n",
       "\n",
       "    .dataframe tbody tr th {\n",
       "        vertical-align: top;\n",
       "    }\n",
       "\n",
       "    .dataframe thead th {\n",
       "        text-align: right;\n",
       "    }\n",
       "</style>\n",
       "<table border=\"1\" class=\"dataframe\">\n",
       "  <thead>\n",
       "    <tr style=\"text-align: right;\">\n",
       "      <th></th>\n",
       "      <th>Date</th>\n",
       "      <th>Open</th>\n",
       "      <th>High</th>\n",
       "      <th>Low</th>\n",
       "      <th>Close</th>\n",
       "      <th>Adj Close</th>\n",
       "      <th>Volume</th>\n",
       "    </tr>\n",
       "  </thead>\n",
       "  <tbody>\n",
       "    <tr>\n",
       "      <th>0</th>\n",
       "      <td>6/20/2019</td>\n",
       "      <td>190.949997</td>\n",
       "      <td>191.160004</td>\n",
       "      <td>187.639999</td>\n",
       "      <td>189.529999</td>\n",
       "      <td>189.529999</td>\n",
       "      <td>14635700.0</td>\n",
       "    </tr>\n",
       "    <tr>\n",
       "      <th>1</th>\n",
       "      <td>6/21/2019</td>\n",
       "      <td>188.750000</td>\n",
       "      <td>192.000000</td>\n",
       "      <td>188.750000</td>\n",
       "      <td>191.139999</td>\n",
       "      <td>191.139999</td>\n",
       "      <td>22751200.0</td>\n",
       "    </tr>\n",
       "    <tr>\n",
       "      <th>2</th>\n",
       "      <td>6/24/2019</td>\n",
       "      <td>192.419998</td>\n",
       "      <td>193.979996</td>\n",
       "      <td>191.570007</td>\n",
       "      <td>192.600006</td>\n",
       "      <td>192.600006</td>\n",
       "      <td>15509000.0</td>\n",
       "    </tr>\n",
       "    <tr>\n",
       "      <th>3</th>\n",
       "      <td>6/25/2019</td>\n",
       "      <td>192.880005</td>\n",
       "      <td>193.139999</td>\n",
       "      <td>188.130005</td>\n",
       "      <td>188.839996</td>\n",
       "      <td>188.839996</td>\n",
       "      <td>16750300.0</td>\n",
       "    </tr>\n",
       "    <tr>\n",
       "      <th>4</th>\n",
       "      <td>6/26/2019</td>\n",
       "      <td>189.539993</td>\n",
       "      <td>190.759995</td>\n",
       "      <td>187.309998</td>\n",
       "      <td>187.660004</td>\n",
       "      <td>187.660004</td>\n",
       "      <td>12808600.0</td>\n",
       "    </tr>\n",
       "    <tr>\n",
       "      <th>...</th>\n",
       "      <td>...</td>\n",
       "      <td>...</td>\n",
       "      <td>...</td>\n",
       "      <td>...</td>\n",
       "      <td>...</td>\n",
       "      <td>...</td>\n",
       "      <td>...</td>\n",
       "    </tr>\n",
       "    <tr>\n",
       "      <th>248</th>\n",
       "      <td>6/15/2020</td>\n",
       "      <td>NaN</td>\n",
       "      <td>NaN</td>\n",
       "      <td>NaN</td>\n",
       "      <td>NaN</td>\n",
       "      <td>NaN</td>\n",
       "      <td>NaN</td>\n",
       "    </tr>\n",
       "    <tr>\n",
       "      <th>249</th>\n",
       "      <td>6/16/2020</td>\n",
       "      <td>NaN</td>\n",
       "      <td>NaN</td>\n",
       "      <td>NaN</td>\n",
       "      <td>NaN</td>\n",
       "      <td>NaN</td>\n",
       "      <td>NaN</td>\n",
       "    </tr>\n",
       "    <tr>\n",
       "      <th>250</th>\n",
       "      <td>6/17/2020</td>\n",
       "      <td>NaN</td>\n",
       "      <td>NaN</td>\n",
       "      <td>NaN</td>\n",
       "      <td>NaN</td>\n",
       "      <td>NaN</td>\n",
       "      <td>NaN</td>\n",
       "    </tr>\n",
       "    <tr>\n",
       "      <th>251</th>\n",
       "      <td>6/18/2020</td>\n",
       "      <td>NaN</td>\n",
       "      <td>NaN</td>\n",
       "      <td>NaN</td>\n",
       "      <td>NaN</td>\n",
       "      <td>NaN</td>\n",
       "      <td>NaN</td>\n",
       "    </tr>\n",
       "    <tr>\n",
       "      <th>252</th>\n",
       "      <td>6/19/2020</td>\n",
       "      <td>NaN</td>\n",
       "      <td>NaN</td>\n",
       "      <td>NaN</td>\n",
       "      <td>NaN</td>\n",
       "      <td>NaN</td>\n",
       "      <td>NaN</td>\n",
       "    </tr>\n",
       "  </tbody>\n",
       "</table>\n",
       "<p>253 rows × 7 columns</p>\n",
       "</div>"
      ],
      "text/plain": [
       "          Date        Open        High         Low       Close   Adj Close  \\\n",
       "0    6/20/2019  190.949997  191.160004  187.639999  189.529999  189.529999   \n",
       "1    6/21/2019  188.750000  192.000000  188.750000  191.139999  191.139999   \n",
       "2    6/24/2019  192.419998  193.979996  191.570007  192.600006  192.600006   \n",
       "3    6/25/2019  192.880005  193.139999  188.130005  188.839996  188.839996   \n",
       "4    6/26/2019  189.539993  190.759995  187.309998  187.660004  187.660004   \n",
       "..         ...         ...         ...         ...         ...         ...   \n",
       "248  6/15/2020         NaN         NaN         NaN         NaN         NaN   \n",
       "249  6/16/2020         NaN         NaN         NaN         NaN         NaN   \n",
       "250  6/17/2020         NaN         NaN         NaN         NaN         NaN   \n",
       "251  6/18/2020         NaN         NaN         NaN         NaN         NaN   \n",
       "252  6/19/2020         NaN         NaN         NaN         NaN         NaN   \n",
       "\n",
       "         Volume  \n",
       "0    14635700.0  \n",
       "1    22751200.0  \n",
       "2    15509000.0  \n",
       "3    16750300.0  \n",
       "4    12808600.0  \n",
       "..          ...  \n",
       "248         NaN  \n",
       "249         NaN  \n",
       "250         NaN  \n",
       "251         NaN  \n",
       "252         NaN  \n",
       "\n",
       "[253 rows x 7 columns]"
      ]
     },
     "execution_count": 4,
     "metadata": {},
     "output_type": "execute_result"
    }
   ],
   "source": [
    "#Load the dataset\n",
    "df = pd.read_csv(\"FB_data_train.csv\")\n",
    "df"
   ]
  },
  {
   "cell_type": "code",
   "execution_count": 5,
   "id": "bf4ab601",
   "metadata": {},
   "outputs": [
    {
     "data": {
      "text/html": [
       "<div>\n",
       "<style scoped>\n",
       "    .dataframe tbody tr th:only-of-type {\n",
       "        vertical-align: middle;\n",
       "    }\n",
       "\n",
       "    .dataframe tbody tr th {\n",
       "        vertical-align: top;\n",
       "    }\n",
       "\n",
       "    .dataframe thead th {\n",
       "        text-align: right;\n",
       "    }\n",
       "</style>\n",
       "<table border=\"1\" class=\"dataframe\">\n",
       "  <thead>\n",
       "    <tr style=\"text-align: right;\">\n",
       "      <th></th>\n",
       "      <th>Date</th>\n",
       "      <th>Open</th>\n",
       "      <th>High</th>\n",
       "      <th>Low</th>\n",
       "      <th>Close</th>\n",
       "      <th>Adj Close</th>\n",
       "      <th>Volume</th>\n",
       "    </tr>\n",
       "  </thead>\n",
       "  <tbody>\n",
       "    <tr>\n",
       "      <th>0</th>\n",
       "      <td>6/20/2019</td>\n",
       "      <td>190.949997</td>\n",
       "      <td>191.160004</td>\n",
       "      <td>187.639999</td>\n",
       "      <td>189.529999</td>\n",
       "      <td>189.529999</td>\n",
       "      <td>14635700.0</td>\n",
       "    </tr>\n",
       "    <tr>\n",
       "      <th>1</th>\n",
       "      <td>6/21/2019</td>\n",
       "      <td>188.750000</td>\n",
       "      <td>192.000000</td>\n",
       "      <td>188.750000</td>\n",
       "      <td>191.139999</td>\n",
       "      <td>191.139999</td>\n",
       "      <td>22751200.0</td>\n",
       "    </tr>\n",
       "    <tr>\n",
       "      <th>2</th>\n",
       "      <td>6/24/2019</td>\n",
       "      <td>192.419998</td>\n",
       "      <td>193.979996</td>\n",
       "      <td>191.570007</td>\n",
       "      <td>192.600006</td>\n",
       "      <td>192.600006</td>\n",
       "      <td>15509000.0</td>\n",
       "    </tr>\n",
       "    <tr>\n",
       "      <th>3</th>\n",
       "      <td>6/25/2019</td>\n",
       "      <td>192.880005</td>\n",
       "      <td>193.139999</td>\n",
       "      <td>188.130005</td>\n",
       "      <td>188.839996</td>\n",
       "      <td>188.839996</td>\n",
       "      <td>16750300.0</td>\n",
       "    </tr>\n",
       "    <tr>\n",
       "      <th>4</th>\n",
       "      <td>6/26/2019</td>\n",
       "      <td>189.539993</td>\n",
       "      <td>190.759995</td>\n",
       "      <td>187.309998</td>\n",
       "      <td>187.660004</td>\n",
       "      <td>187.660004</td>\n",
       "      <td>12808600.0</td>\n",
       "    </tr>\n",
       "    <tr>\n",
       "      <th>...</th>\n",
       "      <td>...</td>\n",
       "      <td>...</td>\n",
       "      <td>...</td>\n",
       "      <td>...</td>\n",
       "      <td>...</td>\n",
       "      <td>...</td>\n",
       "      <td>...</td>\n",
       "    </tr>\n",
       "    <tr>\n",
       "      <th>227</th>\n",
       "      <td>5/14/2020</td>\n",
       "      <td>202.559998</td>\n",
       "      <td>206.929993</td>\n",
       "      <td>200.690002</td>\n",
       "      <td>206.809998</td>\n",
       "      <td>206.809998</td>\n",
       "      <td>17178900.0</td>\n",
       "    </tr>\n",
       "    <tr>\n",
       "      <th>228</th>\n",
       "      <td>5/15/2020</td>\n",
       "      <td>205.270004</td>\n",
       "      <td>211.339996</td>\n",
       "      <td>204.119995</td>\n",
       "      <td>210.880005</td>\n",
       "      <td>210.880005</td>\n",
       "      <td>19383200.0</td>\n",
       "    </tr>\n",
       "    <tr>\n",
       "      <th>229</th>\n",
       "      <td>5/18/2020</td>\n",
       "      <td>212.149994</td>\n",
       "      <td>214.639999</td>\n",
       "      <td>210.940002</td>\n",
       "      <td>213.190002</td>\n",
       "      <td>213.190002</td>\n",
       "      <td>20167400.0</td>\n",
       "    </tr>\n",
       "    <tr>\n",
       "      <th>230</th>\n",
       "      <td>5/19/2020</td>\n",
       "      <td>213.270004</td>\n",
       "      <td>220.490005</td>\n",
       "      <td>212.830002</td>\n",
       "      <td>216.880005</td>\n",
       "      <td>216.880005</td>\n",
       "      <td>31843200.0</td>\n",
       "    </tr>\n",
       "    <tr>\n",
       "      <th>231</th>\n",
       "      <td>5/20/2020</td>\n",
       "      <td>223.500000</td>\n",
       "      <td>231.339996</td>\n",
       "      <td>223.190002</td>\n",
       "      <td>229.970001</td>\n",
       "      <td>229.970001</td>\n",
       "      <td>50162900.0</td>\n",
       "    </tr>\n",
       "  </tbody>\n",
       "</table>\n",
       "<p>232 rows × 7 columns</p>\n",
       "</div>"
      ],
      "text/plain": [
       "          Date        Open        High         Low       Close   Adj Close  \\\n",
       "0    6/20/2019  190.949997  191.160004  187.639999  189.529999  189.529999   \n",
       "1    6/21/2019  188.750000  192.000000  188.750000  191.139999  191.139999   \n",
       "2    6/24/2019  192.419998  193.979996  191.570007  192.600006  192.600006   \n",
       "3    6/25/2019  192.880005  193.139999  188.130005  188.839996  188.839996   \n",
       "4    6/26/2019  189.539993  190.759995  187.309998  187.660004  187.660004   \n",
       "..         ...         ...         ...         ...         ...         ...   \n",
       "227  5/14/2020  202.559998  206.929993  200.690002  206.809998  206.809998   \n",
       "228  5/15/2020  205.270004  211.339996  204.119995  210.880005  210.880005   \n",
       "229  5/18/2020  212.149994  214.639999  210.940002  213.190002  213.190002   \n",
       "230  5/19/2020  213.270004  220.490005  212.830002  216.880005  216.880005   \n",
       "231  5/20/2020  223.500000  231.339996  223.190002  229.970001  229.970001   \n",
       "\n",
       "         Volume  \n",
       "0    14635700.0  \n",
       "1    22751200.0  \n",
       "2    15509000.0  \n",
       "3    16750300.0  \n",
       "4    12808600.0  \n",
       "..          ...  \n",
       "227  17178900.0  \n",
       "228  19383200.0  \n",
       "229  20167400.0  \n",
       "230  31843200.0  \n",
       "231  50162900.0  \n",
       "\n",
       "[232 rows x 7 columns]"
      ]
     },
     "execution_count": 5,
     "metadata": {},
     "output_type": "execute_result"
    }
   ],
   "source": [
    "#Drop empty rows\n",
    "df = df.dropna()\n",
    "df"
   ]
  },
  {
   "cell_type": "code",
   "execution_count": 6,
   "id": "40539c69",
   "metadata": {},
   "outputs": [
    {
     "data": {
      "text/plain": [
       "Index(['Date', 'Open', 'High', 'Low', 'Close', 'Adj Close', 'Volume'], dtype='object')"
      ]
     },
     "execution_count": 6,
     "metadata": {},
     "output_type": "execute_result"
    }
   ],
   "source": [
    "df.columns"
   ]
  },
  {
   "cell_type": "code",
   "execution_count": 7,
   "id": "96af39d9",
   "metadata": {},
   "outputs": [
    {
     "data": {
      "text/html": [
       "<div>\n",
       "<style scoped>\n",
       "    .dataframe tbody tr th:only-of-type {\n",
       "        vertical-align: middle;\n",
       "    }\n",
       "\n",
       "    .dataframe tbody tr th {\n",
       "        vertical-align: top;\n",
       "    }\n",
       "\n",
       "    .dataframe thead th {\n",
       "        text-align: right;\n",
       "    }\n",
       "</style>\n",
       "<table border=\"1\" class=\"dataframe\">\n",
       "  <thead>\n",
       "    <tr style=\"text-align: right;\">\n",
       "      <th></th>\n",
       "      <th>Open</th>\n",
       "      <th>High</th>\n",
       "      <th>Low</th>\n",
       "      <th>Adj Close</th>\n",
       "      <th>Volume</th>\n",
       "    </tr>\n",
       "  </thead>\n",
       "  <tbody>\n",
       "    <tr>\n",
       "      <th>0</th>\n",
       "      <td>190.949997</td>\n",
       "      <td>191.160004</td>\n",
       "      <td>187.639999</td>\n",
       "      <td>189.529999</td>\n",
       "      <td>14635700.0</td>\n",
       "    </tr>\n",
       "    <tr>\n",
       "      <th>1</th>\n",
       "      <td>188.750000</td>\n",
       "      <td>192.000000</td>\n",
       "      <td>188.750000</td>\n",
       "      <td>191.139999</td>\n",
       "      <td>22751200.0</td>\n",
       "    </tr>\n",
       "    <tr>\n",
       "      <th>2</th>\n",
       "      <td>192.419998</td>\n",
       "      <td>193.979996</td>\n",
       "      <td>191.570007</td>\n",
       "      <td>192.600006</td>\n",
       "      <td>15509000.0</td>\n",
       "    </tr>\n",
       "    <tr>\n",
       "      <th>3</th>\n",
       "      <td>192.880005</td>\n",
       "      <td>193.139999</td>\n",
       "      <td>188.130005</td>\n",
       "      <td>188.839996</td>\n",
       "      <td>16750300.0</td>\n",
       "    </tr>\n",
       "    <tr>\n",
       "      <th>4</th>\n",
       "      <td>189.539993</td>\n",
       "      <td>190.759995</td>\n",
       "      <td>187.309998</td>\n",
       "      <td>187.660004</td>\n",
       "      <td>12808600.0</td>\n",
       "    </tr>\n",
       "    <tr>\n",
       "      <th>...</th>\n",
       "      <td>...</td>\n",
       "      <td>...</td>\n",
       "      <td>...</td>\n",
       "      <td>...</td>\n",
       "      <td>...</td>\n",
       "    </tr>\n",
       "    <tr>\n",
       "      <th>227</th>\n",
       "      <td>202.559998</td>\n",
       "      <td>206.929993</td>\n",
       "      <td>200.690002</td>\n",
       "      <td>206.809998</td>\n",
       "      <td>17178900.0</td>\n",
       "    </tr>\n",
       "    <tr>\n",
       "      <th>228</th>\n",
       "      <td>205.270004</td>\n",
       "      <td>211.339996</td>\n",
       "      <td>204.119995</td>\n",
       "      <td>210.880005</td>\n",
       "      <td>19383200.0</td>\n",
       "    </tr>\n",
       "    <tr>\n",
       "      <th>229</th>\n",
       "      <td>212.149994</td>\n",
       "      <td>214.639999</td>\n",
       "      <td>210.940002</td>\n",
       "      <td>213.190002</td>\n",
       "      <td>20167400.0</td>\n",
       "    </tr>\n",
       "    <tr>\n",
       "      <th>230</th>\n",
       "      <td>213.270004</td>\n",
       "      <td>220.490005</td>\n",
       "      <td>212.830002</td>\n",
       "      <td>216.880005</td>\n",
       "      <td>31843200.0</td>\n",
       "    </tr>\n",
       "    <tr>\n",
       "      <th>231</th>\n",
       "      <td>223.500000</td>\n",
       "      <td>231.339996</td>\n",
       "      <td>223.190002</td>\n",
       "      <td>229.970001</td>\n",
       "      <td>50162900.0</td>\n",
       "    </tr>\n",
       "  </tbody>\n",
       "</table>\n",
       "<p>232 rows × 5 columns</p>\n",
       "</div>"
      ],
      "text/plain": [
       "           Open        High         Low   Adj Close      Volume\n",
       "0    190.949997  191.160004  187.639999  189.529999  14635700.0\n",
       "1    188.750000  192.000000  188.750000  191.139999  22751200.0\n",
       "2    192.419998  193.979996  191.570007  192.600006  15509000.0\n",
       "3    192.880005  193.139999  188.130005  188.839996  16750300.0\n",
       "4    189.539993  190.759995  187.309998  187.660004  12808600.0\n",
       "..          ...         ...         ...         ...         ...\n",
       "227  202.559998  206.929993  200.690002  206.809998  17178900.0\n",
       "228  205.270004  211.339996  204.119995  210.880005  19383200.0\n",
       "229  212.149994  214.639999  210.940002  213.190002  20167400.0\n",
       "230  213.270004  220.490005  212.830002  216.880005  31843200.0\n",
       "231  223.500000  231.339996  223.190002  229.970001  50162900.0\n",
       "\n",
       "[232 rows x 5 columns]"
      ]
     },
     "execution_count": 7,
     "metadata": {},
     "output_type": "execute_result"
    }
   ],
   "source": [
    "#Droping date since it is not a useful feature\n",
    "#Droping 'Close' column since it is a duplicate of 'Adj Close' column which is our target variable\n",
    "df = df.drop([\"Date\", \"Close\"], axis = 1)\n",
    "df"
   ]
  },
  {
   "cell_type": "code",
   "execution_count": 8,
   "id": "cfe2aa95",
   "metadata": {},
   "outputs": [
    {
     "data": {
      "text/html": [
       "<div>\n",
       "<style scoped>\n",
       "    .dataframe tbody tr th:only-of-type {\n",
       "        vertical-align: middle;\n",
       "    }\n",
       "\n",
       "    .dataframe tbody tr th {\n",
       "        vertical-align: top;\n",
       "    }\n",
       "\n",
       "    .dataframe thead th {\n",
       "        text-align: right;\n",
       "    }\n",
       "</style>\n",
       "<table border=\"1\" class=\"dataframe\">\n",
       "  <thead>\n",
       "    <tr style=\"text-align: right;\">\n",
       "      <th></th>\n",
       "      <th>Open</th>\n",
       "      <th>High</th>\n",
       "      <th>Low</th>\n",
       "      <th>Adj Close</th>\n",
       "      <th>Volume</th>\n",
       "    </tr>\n",
       "  </thead>\n",
       "  <tbody>\n",
       "    <tr>\n",
       "      <th>count</th>\n",
       "      <td>232.000000</td>\n",
       "      <td>232.000000</td>\n",
       "      <td>232.000000</td>\n",
       "      <td>232.000000</td>\n",
       "      <td>2.320000e+02</td>\n",
       "    </tr>\n",
       "    <tr>\n",
       "      <th>mean</th>\n",
       "      <td>192.544396</td>\n",
       "      <td>194.921854</td>\n",
       "      <td>190.098018</td>\n",
       "      <td>192.679440</td>\n",
       "      <td>1.743166e+07</td>\n",
       "    </tr>\n",
       "    <tr>\n",
       "      <th>std</th>\n",
       "      <td>16.189402</td>\n",
       "      <td>15.665154</td>\n",
       "      <td>16.889319</td>\n",
       "      <td>16.305607</td>\n",
       "      <td>8.539603e+06</td>\n",
       "    </tr>\n",
       "    <tr>\n",
       "      <th>min</th>\n",
       "      <td>139.750000</td>\n",
       "      <td>148.179993</td>\n",
       "      <td>137.100006</td>\n",
       "      <td>146.009995</td>\n",
       "      <td>6.046300e+06</td>\n",
       "    </tr>\n",
       "    <tr>\n",
       "      <th>25%</th>\n",
       "      <td>183.765003</td>\n",
       "      <td>185.997501</td>\n",
       "      <td>181.955002</td>\n",
       "      <td>183.482502</td>\n",
       "      <td>1.143578e+07</td>\n",
       "    </tr>\n",
       "    <tr>\n",
       "      <th>50%</th>\n",
       "      <td>192.865005</td>\n",
       "      <td>195.029999</td>\n",
       "      <td>189.825004</td>\n",
       "      <td>192.665001</td>\n",
       "      <td>1.477565e+07</td>\n",
       "    </tr>\n",
       "    <tr>\n",
       "      <th>75%</th>\n",
       "      <td>203.304997</td>\n",
       "      <td>205.492500</td>\n",
       "      <td>201.097500</td>\n",
       "      <td>203.980004</td>\n",
       "      <td>2.102665e+07</td>\n",
       "    </tr>\n",
       "    <tr>\n",
       "      <th>max</th>\n",
       "      <td>223.500000</td>\n",
       "      <td>231.339996</td>\n",
       "      <td>223.190002</td>\n",
       "      <td>229.970001</td>\n",
       "      <td>5.016290e+07</td>\n",
       "    </tr>\n",
       "  </tbody>\n",
       "</table>\n",
       "</div>"
      ],
      "text/plain": [
       "             Open        High         Low   Adj Close        Volume\n",
       "count  232.000000  232.000000  232.000000  232.000000  2.320000e+02\n",
       "mean   192.544396  194.921854  190.098018  192.679440  1.743166e+07\n",
       "std     16.189402   15.665154   16.889319   16.305607  8.539603e+06\n",
       "min    139.750000  148.179993  137.100006  146.009995  6.046300e+06\n",
       "25%    183.765003  185.997501  181.955002  183.482502  1.143578e+07\n",
       "50%    192.865005  195.029999  189.825004  192.665001  1.477565e+07\n",
       "75%    203.304997  205.492500  201.097500  203.980004  2.102665e+07\n",
       "max    223.500000  231.339996  223.190002  229.970001  5.016290e+07"
      ]
     },
     "execution_count": 8,
     "metadata": {},
     "output_type": "execute_result"
    }
   ],
   "source": [
    "df.describe()"
   ]
  },
  {
   "cell_type": "code",
   "execution_count": 9,
   "id": "d09e3348",
   "metadata": {},
   "outputs": [
    {
     "data": {
      "text/plain": [
       "<AxesSubplot:xlabel='Open'>"
      ]
     },
     "execution_count": 9,
     "metadata": {},
     "output_type": "execute_result"
    },
    {
     "data": {
      "image/png": "[encoded data removed]",
      "text/plain": [
       "<Figure size 432x288 with 1 Axes>"
      ]
     },
     "metadata": {
      "needs_background": "light"
     },
     "output_type": "display_data"
    }
   ],
   "source": [
    "# Plotting a box plot to see if there are outliers\n",
    "sns.boxplot(x = df['Open'])"
   ]
  },
  {
   "cell_type": "code",
   "execution_count": 10,
   "id": "e2caf078",
   "metadata": {},
   "outputs": [
    {
     "name": "stdout",
     "output_type": "stream",
     "text": [
      "Old Shape:  (232, 5)\n",
      "New Shape:  (227, 5)\n"
     ]
    },
    {
     "data": {
      "text/plain": [
       "<AxesSubplot:xlabel='Open'>"
      ]
     },
     "execution_count": 10,
     "metadata": {},
     "output_type": "execute_result"
    },
    {
     "data": {
      "image/png": "[encoded data removed]",
      "text/plain": [
       "<Figure size 432x288 with 1 Axes>"
      ]
     },
     "metadata": {
      "needs_background": "light"
     },
     "output_type": "display_data"
    }
   ],
   "source": [
    "''' Outlier Detection '''\n",
    "# IQR\n",
    "Q1 = np.percentile(df['Open'], 25,\n",
    "                   interpolation = 'midpoint')\n",
    " \n",
    "Q3 = np.percentile(df['Open'], 75,\n",
    "                   interpolation = 'midpoint')\n",
    "IQR = Q3 - Q1\n",
    " \n",
    "print(\"Old Shape: \", df.shape)\n",
    " \n",
    "# Upper bound\n",
    "upper = np.where(df['Open'] >= (Q3+1.5*IQR))\n",
    "# Lower bound\n",
    "lower = np.where(df['Open'] <= (Q1-1.5*IQR))\n",
    " \n",
    "''' Removing the Outliers '''\n",
    "df.drop(upper[0], inplace = True)\n",
    "df.drop(lower[0], inplace = True)\n",
    " \n",
    "print(\"New Shape: \", df.shape)\n",
    "\n",
    "sns.boxplot(x = df['Open'])"
   ]
  },
  {
   "cell_type": "code",
   "execution_count": 11,
   "id": "d3aeede8",
   "metadata": {},
   "outputs": [
    {
     "data": {
      "text/html": [
       "<div>\n",
       "<style scoped>\n",
       "    .dataframe tbody tr th:only-of-type {\n",
       "        vertical-align: middle;\n",
       "    }\n",
       "\n",
       "    .dataframe tbody tr th {\n",
       "        vertical-align: top;\n",
       "    }\n",
       "\n",
       "    .dataframe thead th {\n",
       "        text-align: right;\n",
       "    }\n",
       "</style>\n",
       "<table border=\"1\" class=\"dataframe\">\n",
       "  <thead>\n",
       "    <tr style=\"text-align: right;\">\n",
       "      <th></th>\n",
       "      <th>Open</th>\n",
       "      <th>High</th>\n",
       "      <th>Low</th>\n",
       "      <th>Adj Close</th>\n",
       "      <th>Volume</th>\n",
       "    </tr>\n",
       "  </thead>\n",
       "  <tbody>\n",
       "    <tr>\n",
       "      <th>0</th>\n",
       "      <td>190.949997</td>\n",
       "      <td>191.160004</td>\n",
       "      <td>187.639999</td>\n",
       "      <td>189.529999</td>\n",
       "      <td>14635700.0</td>\n",
       "    </tr>\n",
       "    <tr>\n",
       "      <th>1</th>\n",
       "      <td>188.750000</td>\n",
       "      <td>192.000000</td>\n",
       "      <td>188.750000</td>\n",
       "      <td>191.139999</td>\n",
       "      <td>22751200.0</td>\n",
       "    </tr>\n",
       "    <tr>\n",
       "      <th>2</th>\n",
       "      <td>192.419998</td>\n",
       "      <td>193.979996</td>\n",
       "      <td>191.570007</td>\n",
       "      <td>192.600006</td>\n",
       "      <td>15509000.0</td>\n",
       "    </tr>\n",
       "    <tr>\n",
       "      <th>3</th>\n",
       "      <td>192.880005</td>\n",
       "      <td>193.139999</td>\n",
       "      <td>188.130005</td>\n",
       "      <td>188.839996</td>\n",
       "      <td>16750300.0</td>\n",
       "    </tr>\n",
       "    <tr>\n",
       "      <th>4</th>\n",
       "      <td>189.539993</td>\n",
       "      <td>190.759995</td>\n",
       "      <td>187.309998</td>\n",
       "      <td>187.660004</td>\n",
       "      <td>12808600.0</td>\n",
       "    </tr>\n",
       "    <tr>\n",
       "      <th>...</th>\n",
       "      <td>...</td>\n",
       "      <td>...</td>\n",
       "      <td>...</td>\n",
       "      <td>...</td>\n",
       "      <td>...</td>\n",
       "    </tr>\n",
       "    <tr>\n",
       "      <th>222</th>\n",
       "      <td>202.559998</td>\n",
       "      <td>206.929993</td>\n",
       "      <td>200.690002</td>\n",
       "      <td>206.809998</td>\n",
       "      <td>17178900.0</td>\n",
       "    </tr>\n",
       "    <tr>\n",
       "      <th>223</th>\n",
       "      <td>205.270004</td>\n",
       "      <td>211.339996</td>\n",
       "      <td>204.119995</td>\n",
       "      <td>210.880005</td>\n",
       "      <td>19383200.0</td>\n",
       "    </tr>\n",
       "    <tr>\n",
       "      <th>224</th>\n",
       "      <td>212.149994</td>\n",
       "      <td>214.639999</td>\n",
       "      <td>210.940002</td>\n",
       "      <td>213.190002</td>\n",
       "      <td>20167400.0</td>\n",
       "    </tr>\n",
       "    <tr>\n",
       "      <th>225</th>\n",
       "      <td>213.270004</td>\n",
       "      <td>220.490005</td>\n",
       "      <td>212.830002</td>\n",
       "      <td>216.880005</td>\n",
       "      <td>31843200.0</td>\n",
       "    </tr>\n",
       "    <tr>\n",
       "      <th>226</th>\n",
       "      <td>223.500000</td>\n",
       "      <td>231.339996</td>\n",
       "      <td>223.190002</td>\n",
       "      <td>229.970001</td>\n",
       "      <td>50162900.0</td>\n",
       "    </tr>\n",
       "  </tbody>\n",
       "</table>\n",
       "<p>227 rows × 5 columns</p>\n",
       "</div>"
      ],
      "text/plain": [
       "           Open        High         Low   Adj Close      Volume\n",
       "0    190.949997  191.160004  187.639999  189.529999  14635700.0\n",
       "1    188.750000  192.000000  188.750000  191.139999  22751200.0\n",
       "2    192.419998  193.979996  191.570007  192.600006  15509000.0\n",
       "3    192.880005  193.139999  188.130005  188.839996  16750300.0\n",
       "4    189.539993  190.759995  187.309998  187.660004  12808600.0\n",
       "..          ...         ...         ...         ...         ...\n",
       "222  202.559998  206.929993  200.690002  206.809998  17178900.0\n",
       "223  205.270004  211.339996  204.119995  210.880005  19383200.0\n",
       "224  212.149994  214.639999  210.940002  213.190002  20167400.0\n",
       "225  213.270004  220.490005  212.830002  216.880005  31843200.0\n",
       "226  223.500000  231.339996  223.190002  229.970001  50162900.0\n",
       "\n",
       "[227 rows x 5 columns]"
      ]
     },
     "execution_count": 11,
     "metadata": {},
     "output_type": "execute_result"
    }
   ],
   "source": [
    "df = df.reset_index(drop=True)\n",
    "df"
   ]
  },
  {
   "cell_type": "code",
   "execution_count": 12,
   "id": "bf37d8f9",
   "metadata": {},
   "outputs": [
    {
     "data": {
      "text/plain": [
       "<AxesSubplot:xlabel='High'>"
      ]
     },
     "execution_count": 12,
     "metadata": {},
     "output_type": "execute_result"
    },
    {
     "data": {
      "image/png": "[encoded data removed]",
      "text/plain": [
       "<Figure size 432x288 with 1 Axes>"
      ]
     },
     "metadata": {
      "needs_background": "light"
     },
     "output_type": "display_data"
    }
   ],
   "source": [
    "sns.boxplot(x = df['High'])"
   ]
  },
  {
   "cell_type": "code",
   "execution_count": 13,
   "id": "ef433ea8",
   "metadata": {},
   "outputs": [
    {
     "data": {
      "text/plain": [
       "<AxesSubplot:xlabel='Low'>"
      ]
     },
     "execution_count": 13,
     "metadata": {},
     "output_type": "execute_result"
    },
    {
     "data": {
      "image/png": "[encoded data removed]",
      "text/plain": [
       "<Figure size 432x288 with 1 Axes>"
      ]
     },
     "metadata": {
      "needs_background": "light"
     },
     "output_type": "display_data"
    }
   ],
   "source": [
    "sns.boxplot(x = df['Low'])"
   ]
  },
  {
   "cell_type": "code",
   "execution_count": 14,
   "id": "4aa11285",
   "metadata": {},
   "outputs": [
    {
     "name": "stdout",
     "output_type": "stream",
     "text": [
      "Old Shape:  (227, 5)\n",
      "New Shape:  (223, 5)\n"
     ]
    },
    {
     "data": {
      "text/plain": [
       "<AxesSubplot:xlabel='Low'>"
      ]
     },
     "execution_count": 14,
     "metadata": {},
     "output_type": "execute_result"
    },
    {
     "data": {
      "image/png": "[encoded data removed]",
      "text/plain": [
       "<Figure size 432x288 with 1 Axes>"
      ]
     },
     "metadata": {
      "needs_background": "light"
     },
     "output_type": "display_data"
    }
   ],
   "source": [
    "''' Outlier Detection '''\n",
    "# IQR\n",
    "Q1 = np.percentile(df['Low'], 25,\n",
    "                   interpolation = 'midpoint')\n",
    " \n",
    "Q3 = np.percentile(df['Low'], 75,\n",
    "                   interpolation = 'midpoint')\n",
    "IQR = Q3 - Q1\n",
    " \n",
    "print(\"Old Shape: \", df.shape)\n",
    " \n",
    "# Upper bound\n",
    "upper = np.where(df['Low'] >= (Q3+1.5*IQR))\n",
    "# Lower bound\n",
    "lower = np.where(df['Low'] <= (Q1-1.5*IQR))\n",
    " \n",
    "''' Removing the Outliers '''\n",
    "df.drop(upper[0], inplace = True)\n",
    "df.drop(lower[0], inplace = True)\n",
    " \n",
    "print(\"New Shape: \", df.shape)\n",
    "\n",
    "sns.boxplot(x = df['Low'])"
   ]
  },
  {
   "cell_type": "code",
   "execution_count": 15,
   "id": "199003ea",
   "metadata": {},
   "outputs": [],
   "source": [
    "df = df.reset_index(drop=True)"
   ]
  },
  {
   "cell_type": "code",
   "execution_count": 16,
   "id": "c70963ab",
   "metadata": {},
   "outputs": [
    {
     "data": {
      "text/plain": [
       "<AxesSubplot:xlabel='Volume'>"
      ]
     },
     "execution_count": 16,
     "metadata": {},
     "output_type": "execute_result"
    },
    {
     "data": {
      "image/png": "[encoded data removed]",
      "text/plain": [
       "<Figure size 432x288 with 1 Axes>"
      ]
     },
     "metadata": {
      "needs_background": "light"
     },
     "output_type": "display_data"
    }
   ],
   "source": [
    "sns.boxplot(x = df['Volume'])"
   ]
  },
  {
   "cell_type": "code",
   "execution_count": 17,
   "id": "99acef4f",
   "metadata": {},
   "outputs": [
    {
     "name": "stdout",
     "output_type": "stream",
     "text": [
      "Old Shape:  (223, 5)\n",
      "New Shape:  (213, 5)\n"
     ]
    },
    {
     "data": {
      "text/plain": [
       "<AxesSubplot:xlabel='Volume'>"
      ]
     },
     "execution_count": 17,
     "metadata": {},
     "output_type": "execute_result"
    },
    {
     "data": {
      "image/png": "[encoded data removed]",
      "text/plain": [
       "<Figure size 432x288 with 1 Axes>"
      ]
     },
     "metadata": {
      "needs_background": "light"
     },
     "output_type": "display_data"
    }
   ],
   "source": [
    "''' Outlier Detection '''\n",
    "# IQR\n",
    "Q1 = np.percentile(df['Volume'], 25,\n",
    "                   interpolation = 'midpoint')\n",
    " \n",
    "Q3 = np.percentile(df['Volume'], 75,\n",
    "                   interpolation = 'midpoint')\n",
    "IQR = Q3 - Q1\n",
    " \n",
    "print(\"Old Shape: \", df.shape)\n",
    " \n",
    "# Upper bound\n",
    "upper = np.where(df['Volume'] >= (Q3+1.5*IQR))\n",
    "# Lower bound\n",
    "lower = np.where(df['Volume'] <= (Q1-1.5*IQR))\n",
    " \n",
    "''' Removing the Outliers '''\n",
    "df.drop(upper[0], inplace = True)\n",
    "df.drop(lower[0], inplace = True)\n",
    " \n",
    "print(\"New Shape: \", df.shape)\n",
    "\n",
    "sns.boxplot(x = df['Volume'])"
   ]
  },
  {
   "cell_type": "code",
   "execution_count": 18,
   "id": "9fdbd522",
   "metadata": {},
   "outputs": [
    {
     "data": {
      "text/html": [
       "<div>\n",
       "<style scoped>\n",
       "    .dataframe tbody tr th:only-of-type {\n",
       "        vertical-align: middle;\n",
       "    }\n",
       "\n",
       "    .dataframe tbody tr th {\n",
       "        vertical-align: top;\n",
       "    }\n",
       "\n",
       "    .dataframe thead th {\n",
       "        text-align: right;\n",
       "    }\n",
       "</style>\n",
       "<table border=\"1\" class=\"dataframe\">\n",
       "  <thead>\n",
       "    <tr style=\"text-align: right;\">\n",
       "      <th></th>\n",
       "      <th>Open</th>\n",
       "      <th>High</th>\n",
       "      <th>Low</th>\n",
       "      <th>Adj Close</th>\n",
       "      <th>Volume</th>\n",
       "    </tr>\n",
       "  </thead>\n",
       "  <tbody>\n",
       "    <tr>\n",
       "      <th>0</th>\n",
       "      <td>-0.231321</td>\n",
       "      <td>-0.377440</td>\n",
       "      <td>-0.302393</td>\n",
       "      <td>189.529999</td>\n",
       "      <td>-0.164284</td>\n",
       "    </tr>\n",
       "    <tr>\n",
       "      <th>1</th>\n",
       "      <td>-0.391359</td>\n",
       "      <td>-0.315333</td>\n",
       "      <td>-0.223755</td>\n",
       "      <td>191.139999</td>\n",
       "      <td>1.228779</td>\n",
       "    </tr>\n",
       "    <tr>\n",
       "      <th>2</th>\n",
       "      <td>-0.124387</td>\n",
       "      <td>-0.168936</td>\n",
       "      <td>-0.023970</td>\n",
       "      <td>192.600006</td>\n",
       "      <td>-0.014378</td>\n",
       "    </tr>\n",
       "    <tr>\n",
       "      <th>3</th>\n",
       "      <td>-0.090923</td>\n",
       "      <td>-0.231044</td>\n",
       "      <td>-0.267678</td>\n",
       "      <td>188.839996</td>\n",
       "      <td>0.198697</td>\n",
       "    </tr>\n",
       "    <tr>\n",
       "      <th>4</th>\n",
       "      <td>-0.333891</td>\n",
       "      <td>-0.407016</td>\n",
       "      <td>-0.325772</td>\n",
       "      <td>187.660004</td>\n",
       "      <td>-0.477914</td>\n",
       "    </tr>\n",
       "    <tr>\n",
       "      <th>...</th>\n",
       "      <td>...</td>\n",
       "      <td>...</td>\n",
       "      <td>...</td>\n",
       "      <td>...</td>\n",
       "      <td>...</td>\n",
       "    </tr>\n",
       "    <tr>\n",
       "      <th>217</th>\n",
       "      <td>1.112998</td>\n",
       "      <td>1.073219</td>\n",
       "      <td>0.722738</td>\n",
       "      <td>205.100006</td>\n",
       "      <td>0.874037</td>\n",
       "    </tr>\n",
       "    <tr>\n",
       "      <th>218</th>\n",
       "      <td>0.613243</td>\n",
       "      <td>0.788558</td>\n",
       "      <td>0.622138</td>\n",
       "      <td>206.809998</td>\n",
       "      <td>0.272268</td>\n",
       "    </tr>\n",
       "    <tr>\n",
       "      <th>219</th>\n",
       "      <td>0.810382</td>\n",
       "      <td>1.114624</td>\n",
       "      <td>0.865136</td>\n",
       "      <td>210.880005</td>\n",
       "      <td>0.650646</td>\n",
       "    </tr>\n",
       "    <tr>\n",
       "      <th>220</th>\n",
       "      <td>1.310863</td>\n",
       "      <td>1.358619</td>\n",
       "      <td>1.348301</td>\n",
       "      <td>213.190002</td>\n",
       "      <td>0.785258</td>\n",
       "    </tr>\n",
       "    <tr>\n",
       "      <th>221</th>\n",
       "      <td>1.392338</td>\n",
       "      <td>1.791156</td>\n",
       "      <td>1.482199</td>\n",
       "      <td>216.880005</td>\n",
       "      <td>2.789463</td>\n",
       "    </tr>\n",
       "  </tbody>\n",
       "</table>\n",
       "<p>213 rows × 5 columns</p>\n",
       "</div>"
      ],
      "text/plain": [
       "         Open      High       Low   Adj Close    Volume\n",
       "0   -0.231321 -0.377440 -0.302393  189.529999 -0.164284\n",
       "1   -0.391359 -0.315333 -0.223755  191.139999  1.228779\n",
       "2   -0.124387 -0.168936 -0.023970  192.600006 -0.014378\n",
       "3   -0.090923 -0.231044 -0.267678  188.839996  0.198697\n",
       "4   -0.333891 -0.407016 -0.325772  187.660004 -0.477914\n",
       "..        ...       ...       ...         ...       ...\n",
       "217  1.112998  1.073219  0.722738  205.100006  0.874037\n",
       "218  0.613243  0.788558  0.622138  206.809998  0.272268\n",
       "219  0.810382  1.114624  0.865136  210.880005  0.650646\n",
       "220  1.310863  1.358619  1.348301  213.190002  0.785258\n",
       "221  1.392338  1.791156  1.482199  216.880005  2.789463\n",
       "\n",
       "[213 rows x 5 columns]"
      ]
     },
     "execution_count": 18,
     "metadata": {},
     "output_type": "execute_result"
    }
   ],
   "source": [
    "#Standardizing the input features\n",
    "df[['Open', 'High', 'Low', 'Volume']] = StandardScaler().fit_transform(df[['Open', 'High', 'Low', 'Volume']])\n",
    "df"
   ]
  },
  {
   "cell_type": "code",
   "execution_count": 19,
   "id": "ad07a91b",
   "metadata": {},
   "outputs": [],
   "source": [
    "#Defining input features and the target\n",
    "X = df.drop(['Adj Close'], axis = 1).values\n",
    "y = df['Adj Close']"
   ]
  },
  {
   "cell_type": "code",
   "execution_count": 20,
   "id": "7e6cf4df",
   "metadata": {},
   "outputs": [],
   "source": [
    "input_feats = ['Open', 'High', 'Low', 'Volume']"
   ]
  },
  {
   "cell_type": "code",
   "execution_count": 21,
   "id": "1639e021",
   "metadata": {},
   "outputs": [],
   "source": [
    "#Function to visualize the input features and the target variable\n",
    "def plot_graph(input_features, X, y, title=None, ylabel=\"Standardized feature values\", alpha=0.5, figsize=(10,6)):\n",
    "    minima = min(y)\n",
    "    maxima = max(y)\n",
    "    norm = matplotlib.colors.Normalize(vmin=minima, vmax=maxima, clip=True)\n",
    "    cmapper = cm.ScalarMappable(norm=norm, cmap='coolwarm')\n",
    "    plt.figure(figsize=figsize)\n",
    "    for y_value, X_value in zip(y, X):\n",
    "        plt.plot(input_features, X_value, c=cmapper.to_rgba(y_value), alpha=alpha)\n",
    "    plt.title(title)\n",
    "    plt.xlabel('Input Features')\n",
    "    plt.ylabel(ylabel)\n",
    "    plt.colorbar(cmapper, label='Target values')"
   ]
  },
  {
   "cell_type": "code",
   "execution_count": 22,
   "id": "cc84f0de",
   "metadata": {},
   "outputs": [
    {
     "data": {
      "image/png": "[encoded data removed]",
      "text/plain": [
       "<Figure size 720x432 with 2 Axes>"
      ]
     },
     "metadata": {
      "needs_background": "light"
     },
     "output_type": "display_data"
    }
   ],
   "source": [
    "plot_graph(input_feats, X, y)"
   ]
  },
  {
   "cell_type": "code",
   "execution_count": 23,
   "id": "4502989c",
   "metadata": {},
   "outputs": [
    {
     "data": {
      "text/plain": [
       "<AxesSubplot:>"
      ]
     },
     "execution_count": 23,
     "metadata": {},
     "output_type": "execute_result"
    },
    {
     "data": {
      "image/png": "[encoded data removed]",
      "text/plain": [
       "<Figure size 720x432 with 2 Axes>"
      ]
     },
     "metadata": {
      "needs_background": "light"
     },
     "output_type": "display_data"
    }
   ],
   "source": [
    "# Feature selection using Correlation Coefficient\n",
    "cor = df.corr()\n",
    "plt.figure(figsize = (10,6))\n",
    "sns.heatmap(cor, annot = True)"
   ]
  },
  {
   "cell_type": "markdown",
   "id": "077e22de",
   "metadata": {},
   "source": [
    "By looking at above two graphs we can say that 'Volume' is not very helpfull when it comes to model training. Therefore we can drop the 'Volume' column."
   ]
  },
  {
   "cell_type": "code",
   "execution_count": 24,
   "id": "32e04c8f",
   "metadata": {},
   "outputs": [],
   "source": [
    "#Defining input features and the target again while dropping 'Volume'\n",
    "X = df.drop(['Adj Close', 'Volume'], axis = 1).values\n",
    "y = df['Adj Close']"
   ]
  },
  {
   "cell_type": "code",
   "execution_count": 25,
   "id": "a880bbf8",
   "metadata": {},
   "outputs": [
    {
     "name": "stdout",
     "output_type": "stream",
     "text": [
      "R2 calib: 0.992\n",
      "R2 CV: 0.991\n",
      "RMSE calib: 1.263\n",
      "RMSE CV: 1.291\n"
     ]
    },
    {
     "data": {
      "image/png": "[encoded data removed]",
      "text/plain": [
       "<Figure size 648x360 with 1 Axes>"
      ]
     },
     "metadata": {},
     "output_type": "display_data"
    }
   ],
   "source": [
    "# Create model\n",
    "linreg = LinearRegression()\n",
    "\n",
    "# Fit to the entire dataset\n",
    "linreg.fit(X, y)\n",
    "y_c = linreg.predict(X)\n",
    "\n",
    "# Cross-validation\n",
    "y_cv = cross_val_predict(linreg, X, y, cv=KFold(n_splits=5, random_state=1, shuffle=True))\n",
    "\n",
    "# Calculate scores for calibration and cross-validation\n",
    "score_c = r2_score(y, y_c)\n",
    "score_cv = r2_score(y, y_cv)\n",
    "\n",
    "# Calculate mean squared error for calibration and cross validation\n",
    "mse_c = mean_squared_error(y, y_c)\n",
    "mse_cv = mean_squared_error(y, y_cv)\n",
    "\n",
    "print('R2 calib: %5.3f'  % score_c)\n",
    "print('R2 CV: %5.3f'  % score_cv)\n",
    "print('RMSE calib: %5.3f' % np.sqrt(mse_c))\n",
    "print('RMSE CV: %5.3f' % np.sqrt(mse_cv))\n",
    "\n",
    "# Plot regression and figures of merit\n",
    "rangey = max(y) - min(y)\n",
    "rangex = max(y_c) - min(y_c)\n",
    "\n",
    "# Fit a line to the CV vs response\n",
    "z = np.polyfit(y, y_c, 1)\n",
    "with plt.style.context(('ggplot')):\n",
    "    fig, ax = plt.subplots(figsize=(9, 5))\n",
    "    ax.scatter(y_c, y, c='red', edgecolors='k')\n",
    "    #Plot the best fit line\n",
    "    ax.plot(np.polyval(z,y), y, c='blue', linewidth=1)\n",
    "    #Plot the ideal 1:1 line\n",
    "    ax.plot(y, y, color='green', linewidth=1)\n",
    "    plt.title('$R^{2}$ (CV): '+str(score_cv))\n",
    "    plt.xlabel('Predicted Value')\n",
    "    plt.ylabel('True Value')\n",
    "\n",
    "    plt.show()"
   ]
  },
  {
   "cell_type": "markdown",
   "id": "7e1042f4",
   "metadata": {},
   "source": [
    "### (b)"
   ]
  },
  {
   "cell_type": "markdown",
   "id": "eb91e20f",
   "metadata": {},
   "source": [
    "### (i)\n",
    "A measure of the level of detail in a model."
   ]
  },
  {
   "cell_type": "markdown",
   "id": "2511c6f8",
   "metadata": {},
   "source": [
    "### (ii)\n",
    "Always depends on the problem or use case. It can be either one model or more than one."
   ]
  },
  {
   "cell_type": "markdown",
   "id": "e20dce22",
   "metadata": {},
   "source": [
    "### (iii)\n",
    "A raw feature is an individual measurable property or characteristic of a phenomenon. A synthetic feature is a ratio of two other raw features. We can use correlation matrix, pair plots, histograms, scatter plots and box plots etc."
   ]
  },
  {
   "cell_type": "markdown",
   "id": "0329dd6d",
   "metadata": {},
   "source": [
    "### (iv)\n",
    "#### Confusion Matrix\n",
    "A confusion matrix is an N X N matrix, where N is the number of classes being predicted. We can get following meassures\n",
    "\n",
    "Accuracy : the proportion of the total number of predictions that were correct.\n",
    "Positive Predictive Value or Precision : the proportion of positive cases that were correctly identified.\n",
    "Negative Predictive Value : the proportion of negative cases that were correctly identified.\n",
    "Sensitivity or Recall : the proportion of actual positive cases which are correctly identified.\n",
    "Specificity : the proportion of actual negative cases which are correctly identified.\n",
    "\n",
    "#### F1 Score\n",
    "F1-Score is the harmonic mean of precision and recall values for a classification problem.\n",
    "\n",
    "#### Area Under the ROC curve (AUC – ROC)\n",
    "The ROC curve is the plot between sensitivity and (1- specificity). (1- specificity) is also known as false positive rate and sensitivity is also known as True Positive rate. To bring the ROC curve down to a single number, we find the area under this curve (AUC).\n",
    "\n",
    "#### Root Mean Squared Error (RMSE)\n",
    "When we have more samples, reconstructing the error distribution using RMSE is considered to be more reliable.\n",
    "\n",
    "#### R-Squared\n",
    "When we talk about the RMSE metrics, we do not have a benchmark to compare.This is where we can use R-Squared metric."
   ]
  },
  {
   "cell_type": "code",
   "execution_count": null,
   "id": "fea0a08d",
   "metadata": {},
   "outputs": [],
   "source": []
  }
 ],
 "metadata": {
  "kernelspec": {
   "display_name": "Python 3",
   "language": "python",
   "name": "python3"
  },
  "language_info": {
   "codemirror_mode": {
    "name": "ipython",
    "version": 3
   },
   "file_extension": ".py",
   "mimetype": "text/x-python",
   "name": "python",
   "nbconvert_exporter": "python",
   "pygments_lexer": "ipython3",
   "version": "3.8.8"
  }
 },
 "nbformat": 4,
 "nbformat_minor": 5
}
